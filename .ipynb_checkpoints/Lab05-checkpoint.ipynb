{
 "cells": [
  {
   "cell_type": "code",
   "execution_count": 1,
   "id": "b44161fb",
   "metadata": {},
   "outputs": [],
   "source": [
    "# magic command to display matplotlib plots inline within the ipython notebook webpage\n",
    "%matplotlib inline\n",
    "\n",
    "# import necessary modules\n",
    "import pandas as pd, numpy as np, matplotlib.pyplot as plt"
   ]
  },
  {
   "cell_type": "code",
   "execution_count": 3,
   "id": "eba96a20",
   "metadata": {},
   "outputs": [
    {
     "data": {
      "text/html": [
       "<div>\n",
       "<style scoped>\n",
       "    .dataframe tbody tr th:only-of-type {\n",
       "        vertical-align: middle;\n",
       "    }\n",
       "\n",
       "    .dataframe tbody tr th {\n",
       "        vertical-align: top;\n",
       "    }\n",
       "\n",
       "    .dataframe thead th {\n",
       "        text-align: right;\n",
       "    }\n",
       "</style>\n",
       "<table border=\"1\" class=\"dataframe\">\n",
       "  <thead>\n",
       "    <tr style=\"text-align: right;\">\n",
       "      <th></th>\n",
       "      <th>lat</th>\n",
       "      <th>lon</th>\n",
       "      <th>date</th>\n",
       "      <th>city</th>\n",
       "      <th>country</th>\n",
       "    </tr>\n",
       "  </thead>\n",
       "  <tbody>\n",
       "    <tr>\n",
       "      <th>0</th>\n",
       "      <td>51.481292</td>\n",
       "      <td>-0.451011</td>\n",
       "      <td>05/14/2014 09:07</td>\n",
       "      <td>West Drayton</td>\n",
       "      <td>United Kingdom</td>\n",
       "    </tr>\n",
       "    <tr>\n",
       "      <th>1</th>\n",
       "      <td>51.474005</td>\n",
       "      <td>-0.450999</td>\n",
       "      <td>05/14/2014 09:22</td>\n",
       "      <td>Hounslow</td>\n",
       "      <td>United Kingdom</td>\n",
       "    </tr>\n",
       "    <tr>\n",
       "      <th>2</th>\n",
       "      <td>51.478199</td>\n",
       "      <td>-0.446081</td>\n",
       "      <td>05/14/2014 10:51</td>\n",
       "      <td>Hounslow</td>\n",
       "      <td>United Kingdom</td>\n",
       "    </tr>\n",
       "    <tr>\n",
       "      <th>3</th>\n",
       "      <td>51.478199</td>\n",
       "      <td>-0.446081</td>\n",
       "      <td>05/14/2014 11:24</td>\n",
       "      <td>Hounslow</td>\n",
       "      <td>United Kingdom</td>\n",
       "    </tr>\n",
       "    <tr>\n",
       "      <th>4</th>\n",
       "      <td>51.474146</td>\n",
       "      <td>-0.451562</td>\n",
       "      <td>05/14/2014 11:38</td>\n",
       "      <td>Hounslow</td>\n",
       "      <td>United Kingdom</td>\n",
       "    </tr>\n",
       "  </tbody>\n",
       "</table>\n",
       "</div>"
      ],
      "text/plain": [
       "         lat       lon              date          city         country\n",
       "0  51.481292 -0.451011  05/14/2014 09:07  West Drayton  United Kingdom\n",
       "1  51.474005 -0.450999  05/14/2014 09:22      Hounslow  United Kingdom\n",
       "2  51.478199 -0.446081  05/14/2014 10:51      Hounslow  United Kingdom\n",
       "3  51.478199 -0.446081  05/14/2014 11:24      Hounslow  United Kingdom\n",
       "4  51.474146 -0.451562  05/14/2014 11:38      Hounslow  United Kingdom"
      ]
     },
     "execution_count": 3,
     "metadata": {},
     "output_type": "execute_result"
    }
   ],
   "source": [
    "# create a pandas dataframe from the location data set\n",
    "df = pd.read_csv(r'C:\\Users\\yangw\\PTUA2022\\Lab05\\data\\summer-travel-gps-full.csv')\n",
    "df.head()"
   ]
  },
  {
   "cell_type": "code",
   "execution_count": 17,
   "id": "bcaa6c06",
   "metadata": {},
   "outputs": [
    {
     "data": {
      "text/html": [
       "<div>\n",
       "<style scoped>\n",
       "    .dataframe tbody tr th:only-of-type {\n",
       "        vertical-align: middle;\n",
       "    }\n",
       "\n",
       "    .dataframe tbody tr th {\n",
       "        vertical-align: top;\n",
       "    }\n",
       "\n",
       "    .dataframe thead th {\n",
       "        text-align: right;\n",
       "    }\n",
       "</style>\n",
       "<table border=\"1\" class=\"dataframe\">\n",
       "  <thead>\n",
       "    <tr style=\"text-align: right;\">\n",
       "      <th></th>\n",
       "      <th>lat</th>\n",
       "      <th>lon</th>\n",
       "      <th>date</th>\n",
       "      <th>city</th>\n",
       "      <th>country</th>\n",
       "    </tr>\n",
       "  </thead>\n",
       "  <tbody>\n",
       "    <tr>\n",
       "      <th>0</th>\n",
       "      <td>51.481292</td>\n",
       "      <td>-0.451011</td>\n",
       "      <td>05/14/2014 09:07</td>\n",
       "      <td>West Drayton</td>\n",
       "      <td>United Kingdom</td>\n",
       "    </tr>\n",
       "    <tr>\n",
       "      <th>300</th>\n",
       "      <td>41.377091</td>\n",
       "      <td>2.151175</td>\n",
       "      <td>05/20/2014 03:18</td>\n",
       "      <td>Barcelona</td>\n",
       "      <td>Spain</td>\n",
       "    </tr>\n",
       "    <tr>\n",
       "      <th>600</th>\n",
       "      <td>50.052338</td>\n",
       "      <td>19.946220</td>\n",
       "      <td>05/31/2014 21:10</td>\n",
       "      <td>Krakow</td>\n",
       "      <td>Poland</td>\n",
       "    </tr>\n",
       "    <tr>\n",
       "      <th>900</th>\n",
       "      <td>48.561181</td>\n",
       "      <td>9.059672</td>\n",
       "      <td>06/09/2014 15:12</td>\n",
       "      <td>Tübingen</td>\n",
       "      <td>Germany</td>\n",
       "    </tr>\n",
       "    <tr>\n",
       "      <th>1200</th>\n",
       "      <td>41.378301</td>\n",
       "      <td>2.187443</td>\n",
       "      <td>06/17/2014 16:37</td>\n",
       "      <td>Barcelona</td>\n",
       "      <td>Spain</td>\n",
       "    </tr>\n",
       "    <tr>\n",
       "      <th>1500</th>\n",
       "      <td>42.208201</td>\n",
       "      <td>20.735993</td>\n",
       "      <td>06/30/2014 08:27</td>\n",
       "      <td>Prizren</td>\n",
       "      <td>Kosovo</td>\n",
       "    </tr>\n",
       "  </tbody>\n",
       "</table>\n",
       "</div>"
      ],
      "text/plain": [
       "            lat        lon              date          city         country\n",
       "0     51.481292  -0.451011  05/14/2014 09:07  West Drayton  United Kingdom\n",
       "300   41.377091   2.151175  05/20/2014 03:18     Barcelona           Spain\n",
       "600   50.052338  19.946220  05/31/2014 21:10        Krakow          Poland\n",
       "900   48.561181   9.059672  06/09/2014 15:12      Tübingen         Germany\n",
       "1200  41.378301   2.187443  06/17/2014 16:37     Barcelona           Spain\n",
       "1500  42.208201  20.735993  06/30/2014 08:27       Prizren          Kosovo"
      ]
     },
     "execution_count": 17,
     "metadata": {},
     "output_type": "execute_result"
    }
   ],
   "source": [
    "# Q1: how to get 2 columns from the dataframe (city and country)?\n",
    "df[['city','country']]\n",
    "# Q2: how to get the first 5 rows of the \"city\" column?\n",
    "df.loc[0:5,'city']\n",
    "# Q3: how to use .loc to select the third row of the dataframe?\n",
    "df.loc[3]\n",
    "# Q4: how to use .loc to select the first row in \"country\" column?\n",
    "df.loc[1,'city']\n",
    "# Q5: how to select the first 4 rows of ['city', 'date'] columns?\n",
    "df.loc[0:4, 'city']\n",
    "# Q6: how to get the value from the row in position 3 and the column in position 2\n",
    "df.iloc[3,2]\n",
    "# Q7: how to use iloc to select every 300th row from a data set\n",
    "df.iloc[range(0,len(df),300)]"
   ]
  },
  {
   "cell_type": "code",
   "execution_count": 38,
   "id": "f30e2479",
   "metadata": {},
   "outputs": [
    {
     "data": {
      "text/plain": [
       "country\n",
       "Albania                                                [Berat, Gjirokastër]\n",
       "Bosnia and Herzegovina       [Sarajevo, Mostar, Herzegovina-Neretva Canton]\n",
       "Croatia                                           [Ploče, Split, Dubrovnik]\n",
       "Czech Republic            [Novy Bohumin, Ostrava, Suchdol nad Odrou, Hra...\n",
       "Germany                   [Kümmersbruck, Winkelhaid, Kammerstein, Ansbac...\n",
       "Greece                    [Kakavia, Dytiki Ellada, Peloponnese, Athens, ...\n",
       "Kosovo                                                            [Prizren]\n",
       "Macedonia (FYROM)                                                   [Ohrid]\n",
       "Montenegro                                                          [Kotor]\n",
       "Poland                    [Zendek, Tarnowskie Góry County, Silesian Voiv...\n",
       "Portugal                  [Lisbon, Amadora, Algueirão-Mem Martins, Sintr...\n",
       "Serbia                                                [Belgrade, Slepčević]\n",
       "Spain                     [El Prat de Llobregat, Viladecans, Barcelona, ...\n",
       "Turkey                                                           [Istanbul]\n",
       "United Kingdom                                     [West Drayton, Hounslow]\n",
       "Name: city, dtype: object"
      ]
     },
     "execution_count": 38,
     "metadata": {},
     "output_type": "execute_result"
    }
   ],
   "source": [
    "# Q9: create a Series of true/false, indicating if each \"city\" row in the column is equal to \"Munich\"\n",
    "df['city']=='Munich'\n",
    "# Q10: what cities were visited in spain that were not barcelona? Create a dataframe for it. \n",
    "df[(df['country']=='Spain') & (df['city']!='barcelona')]\n",
    "# Q11: select rows where either the city is munich, or the country is serbia\n",
    "df[(df['city']=='Munich') | (df['country']=='serbia')]\n",
    "# Q12: how many observations are west of the prime meridian?\n",
    "len(df[df['lon'] < 0])\n",
    "# Q13: get all rows that contain a city that starts with the letter G\n",
    "df[df['city'].str.startswith('G')]\n",
    "# Q14: how many unique cities and countries in the dataset? \n",
    "# Also can you check missing values for the dataframe\n",
    "df['city'].nunique()\n",
    "df['country'].nunique()\n",
    "df.isnull().sum()\n",
    "# Q15: group by country name and show the city names in each of the country\n",
    "df.groupby('country')['city'].unique()"
   ]
  },
  {
   "cell_type": "code",
   "execution_count": 93,
   "id": "5e067254",
   "metadata": {
    "scrolled": true
   },
   "outputs": [
    {
     "name": "stdout",
     "output_type": "stream",
     "text": [
      "1758\n",
      "(1759, 4)\n",
      "(1750, 4)\n",
      "                           lat       lon          city         country  \\\n",
      "date                                                                     \n",
      "2014-05-14 09:07:00  51.481292 -0.451011  West Drayton  United Kingdom   \n",
      "2014-05-14 09:22:00  51.474005 -0.450999      Hounslow  United Kingdom   \n",
      "2014-05-14 10:51:00  51.478199 -0.446081      Hounslow  United Kingdom   \n",
      "2014-05-14 11:38:00  51.474146 -0.451562      Hounslow  United Kingdom   \n",
      "2014-05-14 12:23:00  51.480146 -0.441103      Hounslow  United Kingdom   \n",
      "\n",
      "                     weekday weekday_binary  old_ind  hour  \n",
      "date                                                        \n",
      "2014-05-14 09:07:00        2        weekday        0     9  \n",
      "2014-05-14 09:22:00        2        weekday        1     9  \n",
      "2014-05-14 10:51:00        2        weekday        2    10  \n",
      "2014-05-14 11:38:00        2        weekday        3    11  \n",
      "2014-05-14 12:23:00        2        weekday        4    12  \n",
      "24\n"
     ]
    },
    {
     "data": {
      "text/plain": [
       "<AxesSubplot:xlabel='hour'>"
      ]
     },
     "execution_count": 93,
     "metadata": {},
     "output_type": "execute_result"
    },
    {
     "data": {
      "image/png": "[encoded data removed]",
      "text/plain": [
       "<Figure size 432x288 with 1 Axes>"
      ]
     },
     "metadata": {
      "needs_background": "light"
     },
     "output_type": "display_data"
    }
   ],
   "source": [
    "# load the location data set, indexed by the date field\n",
    "# and, parse the dates so they're no longer strings but now rather Python datetime objects\n",
    "# this lets us do date and time based operations on the data set\n",
    "dt = pd.read_csv(r'C:\\Users\\yangw\\PTUA2022\\Lab05\\data\\summer-travel-gps-full.csv', index_col='date', parse_dates=True)\n",
    "dt.head()\n",
    "dt.index=pd.to_datetime(dt.index)\n",
    "# Q16: is the timestamp index unique? How can you use code to find it? \n",
    "print(dt.index.nunique())\n",
    "print(dt.shape)\n",
    "dt.drop_duplicates(inplace=True)\n",
    "print(dt.shape)\n",
    "# Q18:df['weekday']=df.index.dt.weekday create a weekday and a weekend dataframe\n",
    "dt['weekday']=dt.index.weekday\n",
    "dt.weekday.unique()\n",
    "# dt.head()\n",
    "dt.loc[dt['weekday'].isin([6,0]),'weekday_binary']='weekend'\n",
    "dt.loc[dt['weekday_binary'].isnull(),'weekday_binary']='weekday'\n",
    "dt.weekday_binary.value_counts()\n",
    "\n",
    "# Q19: calculate and plot the number of observations each day of the week has\n",
    "# dt.groupby('weekday_binary')['lat'].count().plot(kind='bar')\n",
    "# plt.show()\n",
    "\n",
    "# calculate what share of the weekday observations each hour has\n",
    "dt['old_ind']=range(0,dt.shape[0])\n",
    "dt['hour'] = dt.index.hour\n",
    "print(dt.head())\n",
    "print(dt['hour'].nunique())\n",
    "\n",
    "pd.pivot_table(dt, values='old_ind',columns=['weekday_binary'],index=['hour'],aggfunc='count').apply(lambda x:100 * x / float(x.sum())).round(2).plot(kind='bar')\n"
   ]
  },
  {
   "cell_type": "code",
   "execution_count": null,
   "id": "21aeb218",
   "metadata": {},
   "outputs": [],
   "source": []
  },
  {
   "cell_type": "code",
   "execution_count": null,
   "id": "9d686cab",
   "metadata": {},
   "outputs": [],
   "source": []
  }
 ],
 "metadata": {
  "kernelspec": {
   "display_name": "Python 3 (ipykernel)",
   "language": "python",
   "name": "python3"
  },
  "language_info": {
   "codemirror_mode": {
    "name": "ipython",
    "version": 3
   },
   "file_extension": ".py",
   "mimetype": "text/x-python",
   "name": "python",
   "nbconvert_exporter": "python",
   "pygments_lexer": "ipython3",
   "version": "3.9.7"
  }
 },
 "nbformat": 4,
 "nbformat_minor": 5
}
