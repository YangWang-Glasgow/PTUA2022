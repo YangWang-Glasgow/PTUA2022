{
 "cells": [
  {
   "cell_type": "code",
   "execution_count": 1,
   "id": "f14904e1",
   "metadata": {},
   "outputs": [
    {
     "name": "stdout",
     "output_type": "stream",
     "text": [
      "lab3\n"
     ]
    }
   ],
   "source": [
    "print ('lab3')"
   ]
  },
  {
   "cell_type": "code",
   "execution_count": 2,
   "id": "013addee",
   "metadata": {},
   "outputs": [
    {
     "name": "stdout",
     "output_type": "stream",
     "text": [
      "test 2\n"
     ]
    }
   ],
   "source": [
    "print('test 2')"
   ]
  },
  {
   "cell_type": "code",
   "execution_count": 3,
   "id": "bad12e8d",
   "metadata": {},
   "outputs": [
    {
     "ename": "SyntaxError",
     "evalue": "expression cannot contain assignment, perhaps you meant \"==\"? (Temp/ipykernel_22692/1722472415.py, line 1)",
     "output_type": "error",
     "traceback": [
      "\u001b[1;36m  File \u001b[1;32m\"C:\\Users\\yangw\\AppData\\Local\\Temp/ipykernel_22692/1722472415.py\"\u001b[1;36m, line \u001b[1;32m1\u001b[0m\n\u001b[1;33m    print(42 = n)\u001b[0m\n\u001b[1;37m          ^\u001b[0m\n\u001b[1;31mSyntaxError\u001b[0m\u001b[1;31m:\u001b[0m expression cannot contain assignment, perhaps you meant \"==\"?\n"
     ]
    }
   ],
   "source": [
    "print(42 = n)"
   ]
  },
  {
   "cell_type": "code",
   "execution_count": 4,
   "id": "7e51f3e2",
   "metadata": {},
   "outputs": [
    {
     "data": {
      "text/plain": [
       "3.141592653589793"
      ]
     },
     "execution_count": 4,
     "metadata": {},
     "output_type": "execute_result"
    }
   ],
   "source": [
    "import random\n",
    "import math\n",
    "import matplotlib.pyplot as plt\n",
    "\n",
    "pi = math.pi # our benchmark that we want to estimate using simulation\n",
    "pi"
   ]
  },
  {
   "cell_type": "code",
   "execution_count": 17,
   "id": "13b0f499",
   "metadata": {},
   "outputs": [
    {
     "name": "stdout",
     "output_type": "stream",
     "text": [
      "please give your convergency:.0001\n",
      "how many times you want to run:10\n",
      "0.0\n",
      "2.0\n",
      "1.3333333333333333\n",
      "2.0\n",
      "1.6\n",
      "2.0\n",
      "2.2857142857142856\n",
      "2.5\n",
      "2.6666666666666665\n",
      "2.8\n",
      "2.909090909090909\n",
      "draw limit has reached\n",
      "the difference between result and pi is: -0.07400760382897253\n"
     ]
    }
   ],
   "source": [
    "n = 0 # number of points falling in the unit circle\n",
    "d = 0 # number of points falling in the unit square\n",
    "simulating = True # use as a sentinel\n",
    "convergency=float(input('please give your convergency:'))\n",
    "runLim=int(input('how many times you want to run:'))\n",
    "cnt=0\n",
    "while simulating:\n",
    "    x = random.random()\n",
    "    y = random.random()\n",
    "    if x**2 + y**2 <= 1.0:\n",
    "        n += 1\n",
    "    d += 1\n",
    "    ratio = 4 * n * 1./d\n",
    "    print(ratio)\n",
    "    if abs(ratio-pi) / pi <= convergency:\n",
    "        print(\"Draws needed: \", d)\n",
    "        break\n",
    "    if cnt>=runLim:\n",
    "        print('draw limit has reached')\n",
    "        print('the difference between result and pi is: %s'%((ratio-pi)/pi))\n",
    "        break\n",
    "    cnt+=1\n"
   ]
  },
  {
   "cell_type": "code",
   "execution_count": null,
   "id": "dd102cc0",
   "metadata": {},
   "outputs": [],
   "source": []
  }
 ],
 "metadata": {
  "kernelspec": {
   "display_name": "Python 3 (ipykernel)",
   "language": "python",
   "name": "python3"
  },
  "language_info": {
   "codemirror_mode": {
    "name": "ipython",
    "version": 3
   },
   "file_extension": ".py",
   "mimetype": "text/x-python",
   "name": "python",
   "nbconvert_exporter": "python",
   "pygments_lexer": "ipython3",
   "version": "3.9.7"
  }
 },
 "nbformat": 4,
 "nbformat_minor": 5
}
