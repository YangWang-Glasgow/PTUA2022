{
 "cells": [
  {
   "cell_type": "code",
   "execution_count": 1,
   "id": "f14904e1",
   "metadata": {},
   "outputs": [
    {
     "name": "stdout",
     "output_type": "stream",
     "text": [
      "lab3\n"
     ]
    }
   ],
   "source": [
    "print ('lab3')"
   ]
  },
  {
   "cell_type": "code",
   "execution_count": 3,
   "id": "013addee",
   "metadata": {},
   "outputs": [
    {
     "name": "stdout",
     "output_type": "stream",
     "text": [
      "test 2\n"
     ]
    }
   ],
   "source": [
    "print('test 2')"
   ]
  },
  {
   "cell_type": "code",
   "execution_count": 3,
   "id": "bad12e8d",
   "metadata": {},
   "outputs": [
    {
     "ename": "SyntaxError",
     "evalue": "expression cannot contain assignment, perhaps you meant \"==\"? (Temp/ipykernel_22692/1722472415.py, line 1)",
     "output_type": "error",
     "traceback": [
      "\u001b[1;36m  File \u001b[1;32m\"C:\\Users\\yangw\\AppData\\Local\\Temp/ipykernel_22692/1722472415.py\"\u001b[1;36m, line \u001b[1;32m1\u001b[0m\n\u001b[1;33m    print(42 = n)\u001b[0m\n\u001b[1;37m          ^\u001b[0m\n\u001b[1;31mSyntaxError\u001b[0m\u001b[1;31m:\u001b[0m expression cannot contain assignment, perhaps you meant \"==\"?\n"
     ]
    }
   ],
   "source": [
    "print(42 = n)"
   ]
  },
  {
   "cell_type": "code",
   "execution_count": 4,
   "id": "7e51f3e2",
   "metadata": {},
   "outputs": [
    {
     "data": {
      "text/plain": [
       "3.141592653589793"
      ]
     },
     "execution_count": 4,
     "metadata": {},
     "output_type": "execute_result"
    }
   ],
   "source": [
    "import random\n",
    "import math\n",
    "import matplotlib.pyplot as plt\n",
    "\n",
    "pi = math.pi # our benchmark that we want to estimate using simulation\n",
    "pi"
   ]
  },
  {
   "cell_type": "code",
   "execution_count": 17,
   "id": "13b0f499",
   "metadata": {},
   "outputs": [
    {
     "name": "stdout",
     "output_type": "stream",
     "text": [
      "please give your convergency:.0001\n",
      "how many times you want to run:10\n",
      "0.0\n",
      "2.0\n",
      "1.3333333333333333\n",
      "2.0\n",
      "1.6\n",
      "2.0\n",
      "2.2857142857142856\n",
      "2.5\n",
      "2.6666666666666665\n",
      "2.8\n",
      "2.909090909090909\n",
      "draw limit has reached\n",
      "the difference between result and pi is: -0.07400760382897253\n"
     ]
    }
   ],
   "source": [
    "n = 0 # number of points falling in the unit circle\n",
    "d = 0 # number of points falling in the unit square\n",
    "simulating = True # use as a sentinel\n",
    "convergency=float(input('please give your convergency:'))\n",
    "runLim=int(input('how many times you want to run:'))\n",
    "cnt=0\n",
    "while simulating:\n",
    "    x = random.random()\n",
    "    y = random.random()\n",
    "    if x**2 + y**2 <= 1.0:\n",
    "        n += 1\n",
    "    d += 1\n",
    "    ratio = 4 * n * 1./d\n",
    "    print(ratio)\n",
    "    if abs(ratio-pi) / pi <= convergency:\n",
    "        print(\"Draws needed: \", d)\n",
    "        break\n",
    "    if cnt>=runLim:\n",
    "        print('draw limit has reached')\n",
    "        print('the difference between result and pi is: %s'%((ratio-pi)/pi))\n",
    "        break\n",
    "    cnt+=1\n"
   ]
  },
  {
   "cell_type": "code",
   "execution_count": 4,
   "id": "dd102cc0",
   "metadata": {},
   "outputs": [
    {
     "ename": "NameError",
     "evalue": "name 'xy' is not defined",
     "output_type": "error",
     "traceback": [
      "\u001b[1;31m---------------------------------------------------------------------------\u001b[0m",
      "\u001b[1;31mNameError\u001b[0m                                 Traceback (most recent call last)",
      "\u001b[1;32m~\\AppData\\Local\\Temp/ipykernel_8908/3525707187.py\u001b[0m in \u001b[0;36m<module>\u001b[1;34m\u001b[0m\n\u001b[0;32m      1\u001b[0m \u001b[0mx\u001b[0m\u001b[1;33m=\u001b[0m\u001b[1;36m2\u001b[0m\u001b[1;33m\u001b[0m\u001b[1;33m\u001b[0m\u001b[0m\n\u001b[0;32m      2\u001b[0m \u001b[0my\u001b[0m\u001b[1;33m=\u001b[0m\u001b[1;36m5\u001b[0m\u001b[1;33m\u001b[0m\u001b[1;33m\u001b[0m\u001b[0m\n\u001b[1;32m----> 3\u001b[1;33m \u001b[0mxy\u001b[0m\u001b[1;33m\u001b[0m\u001b[1;33m\u001b[0m\u001b[0m\n\u001b[0m",
      "\u001b[1;31mNameError\u001b[0m: name 'xy' is not defined"
     ]
    }
   ],
   "source": [
    "x=2\n",
    "y=5\n",
    "xy"
   ]
  },
  {
   "cell_type": "code",
   "execution_count": 6,
   "id": "8f9c7266",
   "metadata": {},
   "outputs": [
    {
     "data": {
      "text/plain": [
       "652.0500000000001"
      ]
     },
     "execution_count": 6,
     "metadata": {},
     "output_type": "execute_result"
    }
   ],
   "source": [
    "initialPrice=24.95\n",
    "discount=0.4\n",
    "shiping_firstcopy=3\n",
    "shiping_addionalcopy=0.75\n",
    "copy=60\n",
    "totalCost=(initialPrice*discount*copy)+(shiping_firstcopy*shiping_firstcopy+(copy-1)*shiping_addionalcopy)\n",
    "totalCost"
   ]
  },
  {
   "cell_type": "code",
   "execution_count": 9,
   "id": "a1fde69e",
   "metadata": {},
   "outputs": [
    {
     "data": {
      "text/plain": [
       "datetime.datetime(2022, 1, 22, 7, 30, 6)"
      ]
     },
     "execution_count": 9,
     "metadata": {},
     "output_type": "execute_result"
    }
   ],
   "source": [
    "from datetime import datetime, timedelta, time,date\n",
    "time_left_house = datetime.combine(date.today(), time(hour = 6, minute = 52))\n",
    "miles_run_easy_pace = 2 * timedelta(minutes = 8, seconds = 15)\n",
    "miles_run_fast_pace = 3 * timedelta(minutes = 7, seconds = 12)\n",
    "total_time_run = time_left_house + miles_run_easy_pace + miles_run_fast_pace\n",
    "total_time_run"
   ]
  },
  {
   "cell_type": "code",
   "execution_count": null,
   "id": "4fb8cc06",
   "metadata": {},
   "outputs": [],
   "source": []
  }
 ],
 "metadata": {
  "kernelspec": {
   "display_name": "Python 3 (ipykernel)",
   "language": "python",
   "name": "python3"
  },
  "language_info": {
   "codemirror_mode": {
    "name": "ipython",
    "version": 3
   },
   "file_extension": ".py",
   "mimetype": "text/x-python",
   "name": "python",
   "nbconvert_exporter": "python",
   "pygments_lexer": "ipython3",
   "version": "3.9.7"
  }
 },
 "nbformat": 4,
 "nbformat_minor": 5
}
